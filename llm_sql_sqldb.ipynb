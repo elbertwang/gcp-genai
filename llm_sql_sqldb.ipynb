{
 "cells": [
  {
   "cell_type": "code",
   "execution_count": 23,
   "metadata": {},
   "outputs": [
    {
     "name": "stdout",
     "output_type": "stream",
     "text": [
      "E0803 07:43:14.276572924    2389 backup_poller.cc:127]                 Run client channel backup poller: UNKNOWN:pollset_work {created_time:\"2023-08-03T07:43:14.275933892+00:00\", children:[UNKNOWN:Bad file descriptor {created_time:\"2023-08-03T07:43:14.275802926+00:00\", errno:9, os_error:\"Bad file descriptor\", syscall:\"epoll_wait\"}]}\n",
      "Requirement already satisfied: langchain in /home/user/code/.venv/lib/python3.10/site-packages (0.0.237)\n",
      "Requirement already satisfied: pyarrow in /home/user/code/.venv/lib/python3.10/site-packages (12.0.1)\n",
      "Requirement already satisfied: chromadb in /home/user/code/.venv/lib/python3.10/site-packages (0.4.3)\n",
      "Requirement already satisfied: tiktoken in /home/user/code/.venv/lib/python3.10/site-packages (0.4.0)\n",
      "Requirement already satisfied: tabulate in /home/user/code/.venv/lib/python3.10/site-packages (0.9.0)\n",
      "Requirement already satisfied: sqlalchemy in /home/user/code/.venv/lib/python3.10/site-packages (1.4.49)\n",
      "Requirement already satisfied: sqlalchemy-bigquery in /home/user/code/.venv/lib/python3.10/site-packages (1.7.0)\n",
      "Requirement already satisfied: google-cloud-aiplatform in /home/user/code/.venv/lib/python3.10/site-packages (1.28.1)\n",
      "Requirement already satisfied: google-cloud-bigquery in /home/user/code/.venv/lib/python3.10/site-packages (3.11.4)\n",
      "Requirement already satisfied: google-cloud-bigquery-storage in /home/user/code/.venv/lib/python3.10/site-packages (2.22.0)\n",
      "Requirement already satisfied: PyYAML>=5.4.1 in /home/user/code/.venv/lib/python3.10/site-packages (from langchain) (6.0.1)\n",
      "Requirement already satisfied: aiohttp<4.0.0,>=3.8.3 in /home/user/code/.venv/lib/python3.10/site-packages (from langchain) (3.8.5)\n",
      "Requirement already satisfied: async-timeout<5.0.0,>=4.0.0 in /home/user/code/.venv/lib/python3.10/site-packages (from langchain) (4.0.2)\n",
      "Requirement already satisfied: dataclasses-json<0.6.0,>=0.5.7 in /home/user/code/.venv/lib/python3.10/site-packages (from langchain) (0.5.12)\n",
      "Requirement already satisfied: langsmith<0.0.11,>=0.0.10 in /home/user/code/.venv/lib/python3.10/site-packages (from langchain) (0.0.10)\n",
      "Requirement already satisfied: numexpr<3.0.0,>=2.8.4 in /home/user/code/.venv/lib/python3.10/site-packages (from langchain) (2.8.4)\n",
      "Requirement already satisfied: numpy<2,>=1 in /home/user/code/.venv/lib/python3.10/site-packages (from langchain) (1.25.1)\n",
      "Requirement already satisfied: openapi-schema-pydantic<2.0,>=1.2 in /home/user/code/.venv/lib/python3.10/site-packages (from langchain) (1.2.4)\n",
      "Requirement already satisfied: pydantic<2,>=1 in /home/user/code/.venv/lib/python3.10/site-packages (from langchain) (1.10.11)\n",
      "Requirement already satisfied: requests<3,>=2 in /home/user/code/.venv/lib/python3.10/site-packages (from langchain) (2.31.0)\n",
      "Requirement already satisfied: tenacity<9.0.0,>=8.1.0 in /home/user/code/.venv/lib/python3.10/site-packages (from langchain) (8.2.2)\n",
      "Requirement already satisfied: pandas>=1.3 in /home/user/code/.venv/lib/python3.10/site-packages (from chromadb) (2.0.3)\n",
      "Requirement already satisfied: chroma-hnswlib==0.7.1 in /home/user/code/.venv/lib/python3.10/site-packages (from chromadb) (0.7.1)\n",
      "Requirement already satisfied: fastapi<0.100.0,>=0.95.2 in /home/user/code/.venv/lib/python3.10/site-packages (from chromadb) (0.99.1)\n",
      "Requirement already satisfied: uvicorn[standard]>=0.18.3 in /home/user/code/.venv/lib/python3.10/site-packages (from chromadb) (0.23.1)\n",
      "Requirement already satisfied: posthog>=2.4.0 in /home/user/code/.venv/lib/python3.10/site-packages (from chromadb) (3.0.1)\n",
      "Requirement already satisfied: typing-extensions>=4.5.0 in /home/user/code/.venv/lib/python3.10/site-packages (from chromadb) (4.7.1)\n",
      "Requirement already satisfied: pulsar-client>=3.1.0 in /home/user/code/.venv/lib/python3.10/site-packages (from chromadb) (3.2.0)\n",
      "Requirement already satisfied: onnxruntime>=1.14.1 in /home/user/code/.venv/lib/python3.10/site-packages (from chromadb) (1.15.1)\n",
      "Requirement already satisfied: tokenizers>=0.13.2 in /home/user/code/.venv/lib/python3.10/site-packages (from chromadb) (0.13.3)\n",
      "Requirement already satisfied: pypika>=0.48.9 in /home/user/code/.venv/lib/python3.10/site-packages (from chromadb) (0.48.9)\n",
      "Requirement already satisfied: tqdm>=4.65.0 in /home/user/code/.venv/lib/python3.10/site-packages (from chromadb) (4.65.0)\n",
      "Requirement already satisfied: overrides>=7.3.1 in /home/user/code/.venv/lib/python3.10/site-packages (from chromadb) (7.3.1)\n",
      "Requirement already satisfied: importlib-resources in /home/user/code/.venv/lib/python3.10/site-packages (from chromadb) (6.0.0)\n",
      "Requirement already satisfied: regex>=2022.1.18 in /home/user/code/.venv/lib/python3.10/site-packages (from tiktoken) (2023.6.3)\n",
      "Requirement already satisfied: greenlet!=0.4.17 in /home/user/code/.venv/lib/python3.10/site-packages (from sqlalchemy) (2.0.2)\n",
      "Requirement already satisfied: google-api-core!=2.0.*,!=2.1.*,!=2.2.*,!=2.3.0,<3.0.0dev,>=1.31.5 in /home/user/code/.venv/lib/python3.10/site-packages (from sqlalchemy-bigquery) (2.11.1)\n",
      "Requirement already satisfied: google-auth<3.0.0dev,>=1.25.0 in /home/user/code/.venv/lib/python3.10/site-packages (from sqlalchemy-bigquery) (2.22.0)\n",
      "Requirement already satisfied: packaging in /home/user/code/.venv/lib/python3.10/site-packages (from sqlalchemy-bigquery) (23.1)\n",
      "Requirement already satisfied: proto-plus<2.0.0dev,>=1.22.0 in /home/user/code/.venv/lib/python3.10/site-packages (from google-cloud-aiplatform) (1.22.3)\n",
      "Requirement already satisfied: protobuf!=3.20.0,!=3.20.1,!=4.21.0,!=4.21.1,!=4.21.2,!=4.21.3,!=4.21.4,!=4.21.5,<5.0.0dev,>=3.19.5 in /home/user/code/.venv/lib/python3.10/site-packages (from google-cloud-aiplatform) (4.23.4)\n",
      "Requirement already satisfied: google-cloud-storage<3.0.0dev,>=1.32.0 in /home/user/code/.venv/lib/python3.10/site-packages (from google-cloud-aiplatform) (2.10.0)\n",
      "Requirement already satisfied: google-cloud-resource-manager<3.0.0dev,>=1.3.3 in /home/user/code/.venv/lib/python3.10/site-packages (from google-cloud-aiplatform) (1.10.2)\n",
      "Requirement already satisfied: shapely<2.0.0 in /home/user/code/.venv/lib/python3.10/site-packages (from google-cloud-aiplatform) (1.8.5.post1)\n",
      "Requirement already satisfied: grpcio<2.0dev,>=1.47.0 in /home/user/code/.venv/lib/python3.10/site-packages (from google-cloud-bigquery) (1.56.2)\n",
      "Requirement already satisfied: google-cloud-core<3.0.0dev,>=1.6.0 in /home/user/code/.venv/lib/python3.10/site-packages (from google-cloud-bigquery) (2.3.3)\n",
      "Requirement already satisfied: google-resumable-media<3.0dev,>=0.6.0 in /home/user/code/.venv/lib/python3.10/site-packages (from google-cloud-bigquery) (2.5.0)\n",
      "Requirement already satisfied: python-dateutil<3.0dev,>=2.7.2 in /home/user/code/.venv/lib/python3.10/site-packages (from google-cloud-bigquery) (2.8.2)\n",
      "Requirement already satisfied: attrs>=17.3.0 in /home/user/code/.venv/lib/python3.10/site-packages (from aiohttp<4.0.0,>=3.8.3->langchain) (23.1.0)\n",
      "Requirement already satisfied: charset-normalizer<4.0,>=2.0 in /home/user/code/.venv/lib/python3.10/site-packages (from aiohttp<4.0.0,>=3.8.3->langchain) (3.2.0)\n",
      "Requirement already satisfied: multidict<7.0,>=4.5 in /home/user/code/.venv/lib/python3.10/site-packages (from aiohttp<4.0.0,>=3.8.3->langchain) (6.0.4)\n",
      "Requirement already satisfied: yarl<2.0,>=1.0 in /home/user/code/.venv/lib/python3.10/site-packages (from aiohttp<4.0.0,>=3.8.3->langchain) (1.9.2)\n",
      "Requirement already satisfied: frozenlist>=1.1.1 in /home/user/code/.venv/lib/python3.10/site-packages (from aiohttp<4.0.0,>=3.8.3->langchain) (1.4.0)\n",
      "Requirement already satisfied: aiosignal>=1.1.2 in /home/user/code/.venv/lib/python3.10/site-packages (from aiohttp<4.0.0,>=3.8.3->langchain) (1.3.1)\n",
      "Requirement already satisfied: marshmallow<4.0.0,>=3.18.0 in /home/user/code/.venv/lib/python3.10/site-packages (from dataclasses-json<0.6.0,>=0.5.7->langchain) (3.19.0)\n",
      "Requirement already satisfied: typing-inspect<1,>=0.4.0 in /home/user/code/.venv/lib/python3.10/site-packages (from dataclasses-json<0.6.0,>=0.5.7->langchain) (0.9.0)\n",
      "Requirement already satisfied: starlette<0.28.0,>=0.27.0 in /home/user/code/.venv/lib/python3.10/site-packages (from fastapi<0.100.0,>=0.95.2->chromadb) (0.27.0)\n",
      "Requirement already satisfied: googleapis-common-protos<2.0.dev0,>=1.56.2 in /home/user/code/.venv/lib/python3.10/site-packages (from google-api-core!=2.0.*,!=2.1.*,!=2.2.*,!=2.3.0,<3.0.0dev,>=1.31.5->sqlalchemy-bigquery) (1.59.1)\n",
      "Requirement already satisfied: grpcio-status<2.0.dev0,>=1.33.2 in /home/user/code/.venv/lib/python3.10/site-packages (from google-api-core!=2.0.*,!=2.1.*,!=2.2.*,!=2.3.0,<3.0.0dev,>=1.31.5->sqlalchemy-bigquery) (1.56.2)\n",
      "Requirement already satisfied: cachetools<6.0,>=2.0.0 in /home/user/code/.venv/lib/python3.10/site-packages (from google-auth<3.0.0dev,>=1.25.0->sqlalchemy-bigquery) (5.3.1)\n",
      "Requirement already satisfied: pyasn1-modules>=0.2.1 in /home/user/code/.venv/lib/python3.10/site-packages (from google-auth<3.0.0dev,>=1.25.0->sqlalchemy-bigquery) (0.3.0)\n",
      "Requirement already satisfied: rsa<5,>=3.1.4 in /home/user/code/.venv/lib/python3.10/site-packages (from google-auth<3.0.0dev,>=1.25.0->sqlalchemy-bigquery) (4.9)\n",
      "Requirement already satisfied: six>=1.9.0 in /home/user/code/.venv/lib/python3.10/site-packages (from google-auth<3.0.0dev,>=1.25.0->sqlalchemy-bigquery) (1.16.0)\n",
      "Requirement already satisfied: urllib3<2.0 in /home/user/code/.venv/lib/python3.10/site-packages (from google-auth<3.0.0dev,>=1.25.0->sqlalchemy-bigquery) (1.26.16)\n",
      "Requirement already satisfied: grpc-google-iam-v1<1.0.0dev,>=0.12.4 in /home/user/code/.venv/lib/python3.10/site-packages (from google-cloud-resource-manager<3.0.0dev,>=1.3.3->google-cloud-aiplatform) (0.12.6)\n",
      "Requirement already satisfied: google-crc32c<2.0dev,>=1.0 in /home/user/code/.venv/lib/python3.10/site-packages (from google-resumable-media<3.0dev,>=0.6.0->google-cloud-bigquery) (1.5.0)\n",
      "Requirement already satisfied: coloredlogs in /home/user/code/.venv/lib/python3.10/site-packages (from onnxruntime>=1.14.1->chromadb) (15.0.1)\n",
      "Requirement already satisfied: flatbuffers in /home/user/code/.venv/lib/python3.10/site-packages (from onnxruntime>=1.14.1->chromadb) (23.5.26)\n",
      "Requirement already satisfied: sympy in /home/user/code/.venv/lib/python3.10/site-packages (from onnxruntime>=1.14.1->chromadb) (1.12)\n",
      "Requirement already satisfied: pytz>=2020.1 in /home/user/code/.venv/lib/python3.10/site-packages (from pandas>=1.3->chromadb) (2023.3)\n",
      "Requirement already satisfied: tzdata>=2022.1 in /home/user/code/.venv/lib/python3.10/site-packages (from pandas>=1.3->chromadb) (2023.3)\n",
      "Requirement already satisfied: monotonic>=1.5 in /home/user/code/.venv/lib/python3.10/site-packages (from posthog>=2.4.0->chromadb) (1.6)\n",
      "Requirement already satisfied: backoff>=1.10.0 in /home/user/code/.venv/lib/python3.10/site-packages (from posthog>=2.4.0->chromadb) (2.2.1)\n",
      "Requirement already satisfied: certifi in /home/user/code/.venv/lib/python3.10/site-packages (from pulsar-client>=3.1.0->chromadb) (2023.5.7)\n",
      "Requirement already satisfied: idna<4,>=2.5 in /home/user/code/.venv/lib/python3.10/site-packages (from requests<3,>=2->langchain) (3.4)\n",
      "Requirement already satisfied: click>=7.0 in /home/user/code/.venv/lib/python3.10/site-packages (from uvicorn[standard]>=0.18.3->chromadb) (8.1.6)\n",
      "Requirement already satisfied: h11>=0.8 in /home/user/code/.venv/lib/python3.10/site-packages (from uvicorn[standard]>=0.18.3->chromadb) (0.14.0)\n",
      "Requirement already satisfied: httptools>=0.5.0 in /home/user/code/.venv/lib/python3.10/site-packages (from uvicorn[standard]>=0.18.3->chromadb) (0.6.0)\n",
      "Requirement already satisfied: python-dotenv>=0.13 in /home/user/code/.venv/lib/python3.10/site-packages (from uvicorn[standard]>=0.18.3->chromadb) (1.0.0)\n",
      "Requirement already satisfied: uvloop!=0.15.0,!=0.15.1,>=0.14.0 in /home/user/code/.venv/lib/python3.10/site-packages (from uvicorn[standard]>=0.18.3->chromadb) (0.17.0)\n",
      "Requirement already satisfied: watchfiles>=0.13 in /home/user/code/.venv/lib/python3.10/site-packages (from uvicorn[standard]>=0.18.3->chromadb) (0.19.0)\n",
      "Requirement already satisfied: websockets>=10.4 in /home/user/code/.venv/lib/python3.10/site-packages (from uvicorn[standard]>=0.18.3->chromadb) (11.0.3)\n",
      "Requirement already satisfied: pyasn1<0.6.0,>=0.4.6 in /home/user/code/.venv/lib/python3.10/site-packages (from pyasn1-modules>=0.2.1->google-auth<3.0.0dev,>=1.25.0->sqlalchemy-bigquery) (0.5.0)\n",
      "Requirement already satisfied: anyio<5,>=3.4.0 in /home/user/code/.venv/lib/python3.10/site-packages (from starlette<0.28.0,>=0.27.0->fastapi<0.100.0,>=0.95.2->chromadb) (3.7.1)\n",
      "Requirement already satisfied: mypy-extensions>=0.3.0 in /home/user/code/.venv/lib/python3.10/site-packages (from typing-inspect<1,>=0.4.0->dataclasses-json<0.6.0,>=0.5.7->langchain) (1.0.0)\n",
      "Requirement already satisfied: humanfriendly>=9.1 in /home/user/code/.venv/lib/python3.10/site-packages (from coloredlogs->onnxruntime>=1.14.1->chromadb) (10.0)\n",
      "Requirement already satisfied: mpmath>=0.19 in /home/user/code/.venv/lib/python3.10/site-packages (from sympy->onnxruntime>=1.14.1->chromadb) (1.3.0)\n",
      "Requirement already satisfied: sniffio>=1.1 in /home/user/code/.venv/lib/python3.10/site-packages (from anyio<5,>=3.4.0->starlette<0.28.0,>=0.27.0->fastapi<0.100.0,>=0.95.2->chromadb) (1.3.0)\n",
      "Requirement already satisfied: exceptiongroup in /home/user/code/.venv/lib/python3.10/site-packages (from anyio<5,>=3.4.0->starlette<0.28.0,>=0.27.0->fastapi<0.100.0,>=0.95.2->chromadb) (1.1.2)\n",
      "\n",
      "\u001b[1m[\u001b[0m\u001b[34;49mnotice\u001b[0m\u001b[1;39;49m]\u001b[0m\u001b[39;49m A new release of pip is available: \u001b[0m\u001b[31;49m23.2\u001b[0m\u001b[39;49m -> \u001b[0m\u001b[32;49m23.2.1\u001b[0m\n",
      "\u001b[1m[\u001b[0m\u001b[34;49mnotice\u001b[0m\u001b[1;39;49m]\u001b[0m\u001b[39;49m To update, run: \u001b[0m\u001b[32;49mpip install --upgrade pip\u001b[0m\n",
      "Note: you may need to restart the kernel to use updated packages.\n"
     ]
    }
   ],
   "source": [
    "%pip install langchain pyarrow chromadb tiktoken tabulate sqlalchemy sqlalchemy-bigquery google-cloud-aiplatform google-cloud-bigquery google-cloud-bigquery-storage"
   ]
  },
  {
   "cell_type": "code",
   "execution_count": 4,
   "metadata": {},
   "outputs": [
    {
     "name": "stdout",
     "output_type": "stream",
     "text": [
      "\u001b[31mERROR: Could not find a version that satisfies the requirement sqlite3 (from versions: none)\u001b[0m\u001b[31m\n",
      "\u001b[0m\u001b[31mERROR: No matching distribution found for sqlite3\u001b[0m\u001b[31m\n",
      "\u001b[0m\n",
      "\u001b[1m[\u001b[0m\u001b[34;49mnotice\u001b[0m\u001b[1;39;49m]\u001b[0m\u001b[39;49m A new release of pip is available: \u001b[0m\u001b[31;49m23.2\u001b[0m\u001b[39;49m -> \u001b[0m\u001b[32;49m23.2.1\u001b[0m\n",
      "\u001b[1m[\u001b[0m\u001b[34;49mnotice\u001b[0m\u001b[1;39;49m]\u001b[0m\u001b[39;49m To update, run: \u001b[0m\u001b[32;49mpip install --upgrade pip\u001b[0m\n",
      "Note: you may need to restart the kernel to use updated packages.\n"
     ]
    }
   ],
   "source": [
    "%pip install sqlite3"
   ]
  },
  {
   "cell_type": "code",
   "execution_count": null,
   "metadata": {},
   "outputs": [],
   "source": [
    "!sudo apt install sqlite3"
   ]
  },
  {
   "attachments": {},
   "cell_type": "markdown",
   "metadata": {},
   "source": [
    "需要配置 GOOGLE_APPLICATION_CREDENTIALS 环境变量\n",
    "export GOOGLE_APPLICATION_CREDENTIALS=/home/user/code/sa.json"
   ]
  },
  {
   "cell_type": "code",
   "execution_count": 1,
   "metadata": {},
   "outputs": [],
   "source": [
    "!export GOOGLE_APPLICATION_CREDENTIALS=/home/user/code/sa.json"
   ]
  },
  {
   "attachments": {},
   "cell_type": "markdown",
   "metadata": {},
   "source": [
    "重启 Kernel"
   ]
  },
  {
   "cell_type": "code",
   "execution_count": 31,
   "metadata": {},
   "outputs": [
    {
     "data": {
      "text/plain": [
       "{'status': 'ok', 'restart': True}"
      ]
     },
     "execution_count": 31,
     "metadata": {},
     "output_type": "execute_result"
    },
    {
     "ename": "",
     "evalue": "",
     "output_type": "error",
     "traceback": [
      "\u001b[1;31mThe Kernel crashed while executing code in the the current cell or a previous cell. Please review the code in the cell(s) to identify a possible cause of the failure. Click <a href='https://aka.ms/vscodeJupyterKernelCrash'>here</a> for more info. View Jupyter <a href='command:jupyter.viewOutput'>log</a> for further details."
     ]
    }
   ],
   "source": [
    "import IPython\n",
    "\n",
    "IPython.Application.instance().kernel.do_shutdown(True) #automatically restarts kernel"
   ]
  },
  {
   "attachments": {},
   "cell_type": "markdown",
   "metadata": {},
   "source": [
    "测试是否可以调用Palm2 API"
   ]
  },
  {
   "cell_type": "code",
   "execution_count": 1,
   "metadata": {},
   "outputs": [
    {
     "data": {
      "text/plain": [
       "'Justin Beiber was born on March 1, 1994. The Super Bowl in 1994 was won by the San Francisco 49ers.\\nThe final answer: San Francisco 49ers.'"
      ]
     },
     "execution_count": 1,
     "metadata": {},
     "output_type": "execute_result"
    }
   ],
   "source": [
    "from langchain.llms import VertexAI\n",
    "from langchain import PromptTemplate, LLMChain\n",
    "\n",
    "template = \"\"\"Question: {question}\n",
    "\n",
    "Answer: Let's think step by step.\"\"\"\n",
    "\n",
    "prompt = PromptTemplate(template=template, input_variables=[\"question\"])\n",
    "\n",
    "llm = VertexAI()\n",
    "\n",
    "llm_chain = LLMChain(prompt=prompt, llm=llm)\n",
    "\n",
    "question = \"What NFL team won the Super Bowl in the year Justin Beiber was born?\"\n",
    "\n",
    "llm_chain.run(question)"
   ]
  },
  {
   "attachments": {},
   "cell_type": "markdown",
   "metadata": {},
   "source": [
    "测试LLM with SQL\n",
    "\n",
    "使用Sqlite, \n",
    "数据库来源 https://database.guide/2-sample-databases-sqlite/"
   ]
  },
  {
   "cell_type": "code",
   "execution_count": 2,
   "metadata": {},
   "outputs": [],
   "source": [
    "from sqlalchemy import *\n",
    "from sqlalchemy.engine import create_engine\n",
    "from sqlalchemy.schema import *\n",
    "import os\n",
    "from langchain.agents import create_sql_agent\n",
    "from langchain.agents.agent_toolkits import SQLDatabaseToolkit\n",
    "from langchain.sql_database import SQLDatabase\n",
    "from langchain.agents import AgentExecutor\n",
    "\n",
    "service_account_file = \"/home/user/code/sa.json\" # Change to where your service account key file is located\n",
    "os.environ[\"GOOGLE_APPLICATION_CREDENTIALS\"] = service_account_file\n",
    "\n",
    "table = \"sales\"\n",
    "sqlalchemy_url_chin = f'sqlite:///Chinbook.db'"
   ]
  },
  {
   "cell_type": "code",
   "execution_count": 3,
   "metadata": {},
   "outputs": [],
   "source": [
    "from langchain.llms import VertexAI\n",
    "from langchain import PromptTemplate, LLMChain\n",
    "\n",
    "llm = VertexAI()\n",
    "db = SQLDatabase.from_uri(sqlalchemy_url_chin)\n",
    "\n",
    "toolkit = SQLDatabaseToolkit(db=db, llm=llm)\n",
    "agent_executor = create_sql_agent(\n",
    "llm=llm,\n",
    "toolkit=toolkit,\n",
    "verbose=True,\n",
    "top_k=40,\n",
    ")\n",
    "\n",
    "def query(question_str):\n",
    "    return agent_executor.run(question_str)\n"
   ]
  },
  {
   "cell_type": "code",
   "execution_count": 4,
   "metadata": {},
   "outputs": [
    {
     "name": "stdout",
     "output_type": "stream",
     "text": [
      "\n",
      "\n",
      "\u001b[1m> Entering new AgentExecutor chain...\u001b[0m\n",
      "\u001b[32;1m\u001b[1;3mAction: sql_db_list_tables\n",
      "Action Input: \u001b[0m\n",
      "Observation: \u001b[38;5;200m\u001b[1;3mAlbum, Artist, Customer, Employee, Genre, Invoice, InvoiceLine, MediaType, Playlist, PlaylistTrack, Track\u001b[0m\n",
      "Thought:\u001b[32;1m\u001b[1;3mI should look at the tables in the database to see what I can query.  Then I should query the schema of the most relevant tables.\n",
      "Action: sql_db_schema\n",
      "Action Input: PlaylistTrack\u001b[0m\n",
      "Observation: \u001b[33;1m\u001b[1;3m\n",
      "CREATE TABLE \"PlaylistTrack\" (\n",
      "\t\"PlaylistId\" INTEGER NOT NULL, \n",
      "\t\"TrackId\" INTEGER NOT NULL, \n",
      "\tPRIMARY KEY (\"PlaylistId\", \"TrackId\"), \n",
      "\tFOREIGN KEY(\"TrackId\") REFERENCES \"Track\" (\"TrackId\"), \n",
      "\tFOREIGN KEY(\"PlaylistId\") REFERENCES \"Playlist\" (\"PlaylistId\")\n",
      ")\n",
      "\n",
      "/*\n",
      "3 rows from PlaylistTrack table:\n",
      "PlaylistId\tTrackId\n",
      "1\t3402\n",
      "1\t3389\n",
      "1\t3390\n",
      "*/\u001b[0m\n",
      "Thought:\u001b[32;1m\u001b[1;3mI now know the final answer\n",
      "Final Answer: The playlisttrack table contains the track ids of the tracks in a playlist.\u001b[0m\n",
      "\n",
      "\u001b[1m> Finished chain.\u001b[0m\n"
     ]
    },
    {
     "data": {
      "text/plain": [
       "'The playlisttrack table contains the track ids of the tracks in a playlist.'"
      ]
     },
     "execution_count": 4,
     "metadata": {},
     "output_type": "execute_result"
    }
   ],
   "source": [
    "query(\"Describe the playlisttrack table\")"
   ]
  },
  {
   "cell_type": "code",
   "execution_count": 5,
   "metadata": {},
   "outputs": [
    {
     "name": "stdout",
     "output_type": "stream",
     "text": [
      "\n",
      "\n",
      "\u001b[1m> Entering new AgentExecutor chain...\u001b[0m\n",
      "\u001b[32;1m\u001b[1;3mAction: sql_db_list_tables\n",
      "Action Input: \u001b[0m\n",
      "Observation: \u001b[38;5;200m\u001b[1;3mAlbum, Artist, Customer, Employee, Genre, Invoice, InvoiceLine, MediaType, Playlist, PlaylistTrack, Track\u001b[0m\n",
      "Thought:\u001b[32;1m\u001b[1;3mI should look at the schema of the Invoice table to see what columns I can query.\n",
      "Action: sql_db_schema\n",
      "Action Input: Invoice\u001b[0m\n",
      "Observation: \u001b[33;1m\u001b[1;3m\n",
      "CREATE TABLE \"Invoice\" (\n",
      "\t\"InvoiceId\" INTEGER NOT NULL, \n",
      "\t\"CustomerId\" INTEGER NOT NULL, \n",
      "\t\"InvoiceDate\" DATETIME NOT NULL, \n",
      "\t\"BillingAddress\" NVARCHAR(70), \n",
      "\t\"BillingCity\" NVARCHAR(40), \n",
      "\t\"BillingState\" NVARCHAR(40), \n",
      "\t\"BillingCountry\" NVARCHAR(40), \n",
      "\t\"BillingPostalCode\" NVARCHAR(10), \n",
      "\t\"Total\" NUMERIC(10, 2) NOT NULL, \n",
      "\tPRIMARY KEY (\"InvoiceId\"), \n",
      "\tFOREIGN KEY(\"CustomerId\") REFERENCES \"Customer\" (\"CustomerId\")\n",
      ")\n",
      "\n",
      "/*\n",
      "3 rows from Invoice table:\n",
      "InvoiceId\tCustomerId\tInvoiceDate\tBillingAddress\tBillingCity\tBillingState\tBillingCountry\tBillingPostalCode\tTotal\n",
      "1\t2\t2009-01-01 00:00:00\tTheodor-Heuss-Straße 34\tStuttgart\tNone\tGermany\t70174\t1.98\n",
      "2\t4\t2009-01-02 00:00:00\tUllevålsveien 14\tOslo\tNone\tNorway\t0171\t3.96\n",
      "3\t8\t2009-01-03 00:00:00\tGrétrystraat 63\tBrussels\tNone\tBelgium\t1000\t5.94\n",
      "*/\u001b[0m\n",
      "Thought:"
     ]
    },
    {
     "name": "stderr",
     "output_type": "stream",
     "text": [
      "/home/user/code/.venv/lib/python3.10/site-packages/langchain/sql_database.py:353: SAWarning: Dialect sqlite+pysqlite does *not* support Decimal objects natively, and SQLAlchemy must convert from floating point - rounding errors and other issues may occur. Please consider storing Decimal numbers as strings or integers on this platform for lossless storage.\n",
      "  sample_rows_result = connection.execute(command)  # type: ignore\n"
     ]
    },
    {
     "name": "stdout",
     "output_type": "stream",
     "text": [
      "\u001b[32;1m\u001b[1;3mI should query the Invoice table to get the total sales per country.\n",
      "Action: sql_db_query\n",
      "Action Input: SELECT BillingCountry, SUM(Total) FROM Invoice GROUP BY BillingCountry\u001b[0m\n",
      "Observation: \u001b[36;1m\u001b[1;3m[('Argentina', 37.620000000000005), ('Australia', 37.620000000000005), ('Austria', 42.62), ('Belgium', 37.62), ('Brazil', 190.09999999999997), ('Canada', 303.9599999999999), ('Chile', 46.62), ('Czech Republic', 90.24000000000001), ('Denmark', 37.620000000000005), ('Finland', 41.620000000000005), ('France', 195.09999999999994), ('Germany', 156.48), ('Hungary', 45.62), ('India', 75.25999999999999), ('Ireland', 45.62), ('Italy', 37.620000000000005), ('Netherlands', 40.62), ('Norway', 39.62), ('Poland', 37.620000000000005), ('Portugal', 77.23999999999998), ('Spain', 37.62), ('Sweden', 38.620000000000005), ('USA', 523.0600000000003), ('United Kingdom', 112.85999999999999)]\u001b[0m\n",
      "Thought:\u001b[32;1m\u001b[1;3mI should order the results by the total sales in descending order.\n",
      "Action: sql_db_query\n",
      "Action Input: SELECT BillingCountry, SUM(Total) FROM Invoice GROUP BY BillingCountry ORDER BY SUM(Total) DESC\u001b[0m\n",
      "Observation: \u001b[36;1m\u001b[1;3m[('USA', 523.0600000000003), ('Canada', 303.9599999999999), ('France', 195.09999999999994), ('Brazil', 190.09999999999997), ('Germany', 156.48), ('United Kingdom', 112.85999999999999), ('Czech Republic', 90.24000000000001), ('Portugal', 77.23999999999998), ('India', 75.25999999999999), ('Chile', 46.62), ('Ireland', 45.62), ('Hungary', 45.62), ('Austria', 42.62), ('Finland', 41.620000000000005), ('Netherlands', 40.62), ('Norway', 39.62), ('Sweden', 38.620000000000005), ('Poland', 37.620000000000005), ('Italy', 37.620000000000005), ('Denmark', 37.620000000000005), ('Australia', 37.620000000000005), ('Argentina', 37.620000000000005), ('Spain', 37.62), ('Belgium', 37.62)]\u001b[0m\n",
      "Thought:\u001b[32;1m\u001b[1;3mI now know the final answer\n",
      "Final Answer: The USA has the highest total sales, with 523.06.\u001b[0m\n",
      "\n",
      "\u001b[1m> Finished chain.\u001b[0m\n"
     ]
    },
    {
     "data": {
      "text/plain": [
       "'The USA has the highest total sales, with 523.06.'"
      ]
     },
     "execution_count": 5,
     "metadata": {},
     "output_type": "execute_result"
    }
   ],
   "source": [
    "query(\"List the total sales per country. Which country's customers spent the most?\")\n"
   ]
  },
  {
   "cell_type": "code",
   "execution_count": 36,
   "metadata": {},
   "outputs": [
    {
     "name": "stdout",
     "output_type": "stream",
     "text": [
      "\n",
      "\n",
      "\u001b[1m> Entering new AgentExecutor chain...\u001b[0m\n",
      "\u001b[32;1m\u001b[1;3mAction: sql_db_list_tables\n",
      "Action Input: \u001b[0m\n",
      "Observation: \u001b[38;5;200m\u001b[1;3msales\u001b[0m\n",
      "Thought:\u001b[32;1m\u001b[1;3mI found the table sales. I should query the schema of this table to see what columns it has.\n",
      "Action: sql_db_schema\n",
      "Action Input: sales\u001b[0m\n",
      "Observation: \u001b[33;1m\u001b[1;3m\n",
      "CREATE TABLE `sales` (\n",
      "\t`invoice_and_item_number` STRING, \n",
      "\t`date` DATE, \n",
      "\t`store_number` STRING, \n",
      "\t`store_name` STRING, \n",
      "\t`address` STRING, \n",
      "\t`city` STRING, \n",
      "\t`zip_code` STRING, \n",
      "\t`county_number` STRING, \n",
      "\t`county` STRING, \n",
      "\t`category` STRING, \n",
      "\t`category_name` STRING, \n",
      "\t`vendor_number` STRING, \n",
      "\t`vendor_name` STRING, \n",
      "\t`item_number` STRING, \n",
      "\t`item_description` STRING, \n",
      "\t`pack` INT64, \n",
      "\t`bottle_volume_ml` INT64, \n",
      "\t`state_bottle_cost` FLOAT64, \n",
      "\t`state_bottle_retail` FLOAT64, \n",
      "\t`bottles_sold` INT64, \n",
      "\t`sale_dollars` FLOAT64, \n",
      "\t`volume_sold_liters` FLOAT64, \n",
      "\t`volume_sold_gallons` FLOAT64\n",
      ")\n",
      "\n",
      "/*\n",
      "3 rows from sales table:\n",
      "invoice_and_item_number\tdate\tstore_number\tstore_name\taddress\tcity\tzip_code\tcounty_number\tcounty\tcategory\tcategory_name\tvendor_number\tvendor_name\titem_number\titem_description\tpack\tbottle_volume_ml\tstate_bottle_cost\tstate_bottle_retail\tbottles_sold\tsale_dollars\tvolume_sold_liters\tvolume_sold_gallons\n",
      "INV-21979800032\t2019-09-18\t4405\tKUM & GO #92 / ANKENY\t1025 E  1ST ST\tANKENY\t50021\t77\tPOLK\t1082000.0\tIMPORTED CORDIALS & LIQUEURS\t192\tMAST-JAGERMEISTER US, INC\t65259\tJAGERMEISTER MINI MEISTERS\t12\t20\t4.93\t7.4\t1\t7.4\t0.02\t0.0\n",
      "INV-37719200099\t2021-06-22\t5423\tSTAMMER LIQUOR CORP\t615 2ND AVE\tSHELDON\t51201.0\t71\tO'BRIEN\t1082100.0\tIMPORTED CORDIALS & LIQUEURS\t192\tMAST-JAGERMEISTER US, INC\t65259\tJAGERMEISTER LIQUEUR MINI MEISTERS\t12\t20\t4.93\t7.4\t1\t7.4\t0.02\t0.0\n",
      "INV-18840700012\t2019-04-18\t4129\tCYCLONE LIQUORS\t626 LINCOLN WAY\tAMES\t50010\t85\tSTORY\t1701100.0\tTEMPORARY & SPECIALTY PACKAGES\t559\tMID-OAK DISTILLERY, INC.\t57273\tBLONDIES STRAWBERRY LEMONADE CANS\t6\t1420\t5.5\t8.25\t6\t49.5\t8.52\t2.25\n",
      "*/\u001b[0m\n",
      "Thought:\u001b[32;1m\u001b[1;3mThe table sales has the columns store_name, zip_code, dollar sales and city name. I can use these columns to answer the question.\n",
      "Action: sql_db_query\n",
      "Action Input: SELECT store_name, zip_code, dollar_sales, city FROM sales ORDER BY dollar_sales DESC LIMIT 10\u001b[0m\n",
      "Observation: \u001b[36;1m\u001b[1;3mError: (google.cloud.bigquery.dbapi.exceptions.DatabaseError) 400 Unrecognized name: dollar_sales at [1:30]\n",
      "\n",
      "Location: US\n",
      "Job ID: d602600e-8e03-418a-a8cc-e0975dcc6e92\n",
      "\n",
      "[SQL: SELECT store_name, zip_code, dollar_sales, city FROM sales ORDER BY dollar_sales DESC LIMIT 10]\n",
      "(Background on this error at: https://sqlalche.me/e/14/4xp6)\u001b[0m\n",
      "Thought:\u001b[32;1m\u001b[1;3mThe query is not correct. I should check the schema of the table sales again.\n",
      "Action: sql_db_schema\n",
      "Action Input: sales\u001b[0m\n",
      "Observation: \u001b[33;1m\u001b[1;3m\n",
      "CREATE TABLE `sales` (\n",
      "\t`invoice_and_item_number` STRING, \n",
      "\t`date` DATE, \n",
      "\t`store_number` STRING, \n",
      "\t`store_name` STRING, \n",
      "\t`address` STRING, \n",
      "\t`city` STRING, \n",
      "\t`zip_code` STRING, \n",
      "\t`county_number` STRING, \n",
      "\t`county` STRING, \n",
      "\t`category` STRING, \n",
      "\t`category_name` STRING, \n",
      "\t`vendor_number` STRING, \n",
      "\t`vendor_name` STRING, \n",
      "\t`item_number` STRING, \n",
      "\t`item_description` STRING, \n",
      "\t`pack` INT64, \n",
      "\t`bottle_volume_ml` INT64, \n",
      "\t`state_bottle_cost` FLOAT64, \n",
      "\t`state_bottle_retail` FLOAT64, \n",
      "\t`bottles_sold` INT64, \n",
      "\t`sale_dollars` FLOAT64, \n",
      "\t`volume_sold_liters` FLOAT64, \n",
      "\t`volume_sold_gallons` FLOAT64\n",
      ")\n",
      "\n",
      "/*\n",
      "3 rows from sales table:\n",
      "invoice_and_item_number\tdate\tstore_number\tstore_name\taddress\tcity\tzip_code\tcounty_number\tcounty\tcategory\tcategory_name\tvendor_number\tvendor_name\titem_number\titem_description\tpack\tbottle_volume_ml\tstate_bottle_cost\tstate_bottle_retail\tbottles_sold\tsale_dollars\tvolume_sold_liters\tvolume_sold_gallons\n",
      "INV-21979800032\t2019-09-18\t4405\tKUM & GO #92 / ANKENY\t1025 E  1ST ST\tANKENY\t50021\t77\tPOLK\t1082000.0\tIMPORTED CORDIALS & LIQUEURS\t192\tMAST-JAGERMEISTER US, INC\t65259\tJAGERMEISTER MINI MEISTERS\t12\t20\t4.93\t7.4\t1\t7.4\t0.02\t0.0\n",
      "INV-37719200099\t2021-06-22\t5423\tSTAMMER LIQUOR CORP\t615 2ND AVE\tSHELDON\t51201.0\t71\tO'BRIEN\t1082100.0\tIMPORTED CORDIALS & LIQUEURS\t192\tMAST-JAGERMEISTER US, INC\t65259\tJAGERMEISTER LIQUEUR MINI MEISTERS\t12\t20\t4.93\t7.4\t1\t7.4\t0.02\t0.0\n",
      "INV-18840700012\t2019-04-18\t4129\tCYCLONE LIQUORS\t626 LINCOLN WAY\tAMES\t50010\t85\tSTORY\t1701100.0\tTEMPORARY & SPECIALTY PACKAGES\t559\tMID-OAK DISTILLERY, INC.\t57273\tBLONDIES STRAWBERRY LEMONADE CANS\t6\t1420\t5.5\t8.25\t6\t49.5\t8.52\t2.25\n",
      "*/\u001b[0m\n",
      "Thought:\u001b[32;1m\u001b[1;3mThe table sales has the column sale_dollars. I can use this column to answer the question.\n",
      "Action: sql_db_query\n",
      "Action Input: SELECT store_name, zip_code, sale_dollars, city FROM sales ORDER BY sale_dollars DESC LIMIT 10\u001b[0m\n",
      "Observation: \u001b[36;1m\u001b[1;3m[('HY-VEE FOOD STORE / URBANDALE', '50322.0', 279557.28, 'URBANDALE'), ('HY-VEE #3 / BDI / DES MOINES', '50320', 254100.0, 'DES MOINES'), ('HY-VEE #3 / BDI / DES MOINES', '50320', 254100.0, 'DES MOINES'), ('HY-VEE #3 / BDI / DES MOINES', '50320.0', 250932.0, 'DES MOINES'), ('HY-VEE #3 / BDI / DES MOINES', '50320.0', 250932.0, 'DES MOINES'), ('HY-VEE #3 / BDI / DES MOINES', '50320.0', 250932.0, 'DES MOINES'), ('HY-VEE #3 / BDI / DES MOINES', '50320.0', 250932.0, 'DES MOINES'), ('HY-VEE #3 / BDI / DES MOINES', '50320', 234748.8, 'DES MOINES'), ('HY-VEE #3 / BDI / DES MOINES', '50320.0', 225838.8, 'DES MOINES'), ('HY-VEE #3 / BDI / DES MOINES', '50320', 196004.88, 'DES MOINES')]\u001b[0m\n",
      "Thought:\u001b[32;1m\u001b[1;3mThe query is correct. I can now look at the results.\n",
      "Action: sql_db_query_checker\n",
      "Action Input: SELECT store_name, zip_code, sale_dollars, city FROM sales ORDER BY sale_dollars DESC LIMIT 10\u001b[0m\n",
      "Observation: \u001b[36;1m\u001b[1;3mThe query is correct.\u001b[0m\n",
      "Thought:\u001b[32;1m\u001b[1;3mI now know the final answer\n",
      "Final Answer: The stores with the highest number of sales are:\n",
      "1. HY-VEE FOOD STORE / URBANDALE, zip code 50322, sale dollars 279557.28, city URBANDALE\n",
      "2. HY-VEE #3 / BDI / DES MOINES, zip code 50320, sale dollars 254100.0, city DES MOINES\n",
      "3. HY-VEE #3 / BDI / DES MOINES, zip code \u001b[0m\n",
      "\n",
      "\u001b[1m> Finished chain.\u001b[0m\n"
     ]
    },
    {
     "data": {
      "text/plain": [
       "'The stores with the highest number of sales are:\\n1. HY-VEE FOOD STORE / URBANDALE, zip code 50322, sale dollars 279557.28, city URBANDALE\\n2. HY-VEE #3 / BDI / DES MOINES, zip code 50320, sale dollars 254100.0, city DES MOINES\\n3. HY-VEE #3 / BDI / DES MOINES, zip code'"
      ]
     },
     "execution_count": 36,
     "metadata": {},
     "output_type": "execute_result"
    },
    {
     "name": "stdout",
     "output_type": "stream",
     "text": [
      "\n",
      "\n",
      "\u001b[1m> Entering new AgentExecutor chain...\u001b[0m\n",
      "\u001b[32;1m\u001b[1;3mAction: sql_db_list_tables\n",
      "Action Input: \u001b[0m\n",
      "Observation: \u001b[38;5;200m\u001b[1;3msales\u001b[0m\n",
      "Thought:\u001b[32;1m\u001b[1;3mThe sales table seems relevant. I should query the schema of the sales table.\n",
      "Action: sql_db_schema\n",
      "Action Input: sales\u001b[0m\n",
      "Observation: \u001b[33;1m\u001b[1;3m\n",
      "CREATE TABLE `sales` (\n",
      "\t`invoice_and_item_number` STRING, \n",
      "\t`date` DATE, \n",
      "\t`store_number` STRING, \n",
      "\t`store_name` STRING, \n",
      "\t`address` STRING, \n",
      "\t`city` STRING, \n",
      "\t`zip_code` STRING, \n",
      "\t`county_number` STRING, \n",
      "\t`county` STRING, \n",
      "\t`category` STRING, \n",
      "\t`category_name` STRING, \n",
      "\t`vendor_number` STRING, \n",
      "\t`vendor_name` STRING, \n",
      "\t`item_number` STRING, \n",
      "\t`item_description` STRING, \n",
      "\t`pack` INT64, \n",
      "\t`bottle_volume_ml` INT64, \n",
      "\t`state_bottle_cost` FLOAT64, \n",
      "\t`state_bottle_retail` FLOAT64, \n",
      "\t`bottles_sold` INT64, \n",
      "\t`sale_dollars` FLOAT64, \n",
      "\t`volume_sold_liters` FLOAT64, \n",
      "\t`volume_sold_gallons` FLOAT64\n",
      ")\n",
      "\n",
      "/*\n",
      "3 rows from sales table:\n",
      "invoice_and_item_number\tdate\tstore_number\tstore_name\taddress\tcity\tzip_code\tcounty_number\tcounty\tcategory\tcategory_name\tvendor_number\tvendor_name\titem_number\titem_description\tpack\tbottle_volume_ml\tstate_bottle_cost\tstate_bottle_retail\tbottles_sold\tsale_dollars\tvolume_sold_liters\tvolume_sold_gallons\n",
      "INV-21979800032\t2019-09-18\t4405\tKUM & GO #92 / ANKENY\t1025 E  1ST ST\tANKENY\t50021\t77\tPOLK\t1082000.0\tIMPORTED CORDIALS & LIQUEURS\t192\tMAST-JAGERMEISTER US, INC\t65259\tJAGERMEISTER MINI MEISTERS\t12\t20\t4.93\t7.4\t1\t7.4\t0.02\t0.0\n",
      "INV-37719200099\t2021-06-22\t5423\tSTAMMER LIQUOR CORP\t615 2ND AVE\tSHELDON\t51201.0\t71\tO'BRIEN\t1082100.0\tIMPORTED CORDIALS & LIQUEURS\t192\tMAST-JAGERMEISTER US, INC\t65259\tJAGERMEISTER LIQUEUR MINI MEISTERS\t12\t20\t4.93\t7.4\t1\t7.4\t0.02\t0.0\n",
      "INV-18840700012\t2019-04-18\t4129\tCYCLONE LIQUORS\t626 LINCOLN WAY\tAMES\t50010\t85\tSTORY\t1701100.0\tTEMPORARY & SPECIALTY PACKAGES\t559\tMID-OAK DISTILLERY, INC.\t57273\tBLONDIES STRAWBERRY LEMONADE CANS\t6\t1420\t5.5\t8.25\t6\t49.5\t8.52\t2.25\n",
      "*/\u001b[0m\n",
      "Thought:\u001b[32;1m\u001b[1;3mThe sales table has an invoice_and_item_number column. I can use that to count the number of invoices.\n",
      "Action: sql_db_query\n",
      "Action Input: SELECT count(*) FROM sales\u001b[0m\n",
      "Observation: \u001b[36;1m\u001b[1;3m[(26592863,)]\u001b[0m\n",
      "Thought:\u001b[32;1m\u001b[1;3mI now know the final answer\n",
      "Final Answer: The total number of invoices is 26592863.\u001b[0m\n",
      "\n",
      "\u001b[1m> Finished chain.\u001b[0m\n"
     ]
    }
   ],
   "source": [
    "query(\"Show the total number of tracks in each playlist. The Playlist name should be included in the result.\")\n"
   ]
  },
  {
   "cell_type": "code",
   "execution_count": null,
   "metadata": {},
   "outputs": [],
   "source": [
    "%pip install gradio"
   ]
  },
  {
   "cell_type": "code",
   "execution_count": 6,
   "metadata": {},
   "outputs": [
    {
     "name": "stderr",
     "output_type": "stream",
     "text": [
      "/home/user/code/.venv/lib/python3.10/site-packages/tqdm/auto.py:21: TqdmWarning: IProgress not found. Please update jupyter and ipywidgets. See https://ipywidgets.readthedocs.io/en/stable/user_install.html\n",
      "  from .autonotebook import tqdm as notebook_tqdm\n"
     ]
    },
    {
     "name": "stdout",
     "output_type": "stream",
     "text": [
      "Running on local URL:  http://127.0.0.1:7860\n",
      "Running on public URL: https://78df584d6c731181f7.gradio.live\n",
      "\n",
      "This share link expires in 72 hours. For free permanent hosting and GPU upgrades, run `gradio deploy` from Terminal to deploy to Spaces (https://huggingface.co/spaces)\n"
     ]
    },
    {
     "data": {
      "text/html": [
       "<div><iframe src=\"https://78df584d6c731181f7.gradio.live\" width=\"100%\" height=\"500\" allow=\"autoplay; camera; microphone; clipboard-read; clipboard-write;\" frameborder=\"0\" allowfullscreen></iframe></div>"
      ],
      "text/plain": [
       "<IPython.core.display.HTML object>"
      ]
     },
     "metadata": {},
     "output_type": "display_data"
    },
    {
     "data": {
      "text/plain": []
     },
     "execution_count": 6,
     "metadata": {},
     "output_type": "execute_result"
    },
    {
     "name": "stdout",
     "output_type": "stream",
     "text": [
      "\n",
      "\n",
      "\u001b[1m> Entering new AgentExecutor chain...\u001b[0m\n",
      "\u001b[32;1m\u001b[1;3mAction: sql_db_list_tables\n",
      "Action Input: \u001b[0m\n",
      "Observation: \u001b[38;5;200m\u001b[1;3mAlbum, Artist, Customer, Employee, Genre, Invoice, InvoiceLine, MediaType, Playlist, PlaylistTrack, Track\u001b[0m\n",
      "Thought:\u001b[32;1m\u001b[1;3mI should look at the schema of the Playlist table to see what columns I can query.\n",
      "Action: sql_db_schema\n",
      "Action Input: Playlist\u001b[0m\n",
      "Observation: \u001b[33;1m\u001b[1;3m\n",
      "CREATE TABLE \"Playlist\" (\n",
      "\t\"PlaylistId\" INTEGER NOT NULL, \n",
      "\t\"Name\" NVARCHAR(120), \n",
      "\tPRIMARY KEY (\"PlaylistId\")\n",
      ")\n",
      "\n",
      "/*\n",
      "3 rows from Playlist table:\n",
      "PlaylistId\tName\n",
      "1\tMusic\n",
      "2\tMovies\n",
      "3\tTV Shows\n",
      "*/\u001b[0m\n",
      "Thought:\u001b[32;1m\u001b[1;3mI should look at the schema of the PlaylistTrack table to see what columns I can query.\n",
      "Action: sql_db_schema\n",
      "Action Input: PlaylistTrack\u001b[0m\n",
      "Observation: \u001b[33;1m\u001b[1;3m\n",
      "CREATE TABLE \"PlaylistTrack\" (\n",
      "\t\"PlaylistId\" INTEGER NOT NULL, \n",
      "\t\"TrackId\" INTEGER NOT NULL, \n",
      "\tPRIMARY KEY (\"PlaylistId\", \"TrackId\"), \n",
      "\tFOREIGN KEY(\"TrackId\") REFERENCES \"Track\" (\"TrackId\"), \n",
      "\tFOREIGN KEY(\"PlaylistId\") REFERENCES \"Playlist\" (\"PlaylistId\")\n",
      ")\n",
      "\n",
      "/*\n",
      "3 rows from PlaylistTrack table:\n",
      "PlaylistId\tTrackId\n",
      "1\t3402\n",
      "1\t3389\n",
      "1\t3390\n",
      "*/\u001b[0m\n",
      "Thought:\u001b[32;1m\u001b[1;3mI should join the Playlist and PlaylistTrack tables on PlaylistId to get the number of tracks in each playlist.\n",
      "Action: sql_db_query\n",
      "Action Input: SELECT Playlist.Name, COUNT(PlaylistTrack.TrackId) FROM Playlist JOIN PlaylistTrack ON Playlist.PlaylistId = PlaylistTrack.PlaylistId GROUP BY Playlist.Name\u001b[0m\n",
      "Observation: \u001b[36;1m\u001b[1;3m[('90’s Music', 1477), ('Brazilian Music', 39), ('Classical', 75), ('Classical 101 - Deep Cuts', 25), ('Classical 101 - Next Steps', 25), ('Classical 101 - The Basics', 25), ('Grunge', 15), ('Heavy Metal Classic', 26), ('Music', 6580), ('Music Videos', 1), ('On-The-Go 1', 1), ('TV Shows', 426)]\u001b[0m\n",
      "Thought:\u001b[32;1m\u001b[1;3mI now know the final answer\n",
      "Final Answer: The number of tracks in each playlist is:\n",
      "90’s Music: 1477\n",
      "Brazilian Music: 39\n",
      "Classical: 75\n",
      "Classical 101 - Deep Cuts: 25\n",
      "Classical 101 - Next Steps: 25\n",
      "Classical 101 - The Basics: 25\n",
      "Grunge: 15\n",
      "Heavy Metal Classic: 26\n",
      "Music: 6580\n",
      "Music Videos: 1\n",
      "On-The-Go 1: \u001b[0m\n",
      "\n",
      "\u001b[1m> Finished chain.\u001b[0m\n"
     ]
    }
   ],
   "source": [
    "import gradio as gr\n",
    "\n",
    "with gr.Blocks() as demo:\n",
    "    gr.Markdown(\n",
    "    \"\"\"\n",
    "    ## Ask BigQuery\n",
    "\n",
    "    This demo is to showcase answering questions on a tabular data available in Big Query using Vertex PALM LLM & Langchain.\n",
    "\n",
    "    Dataset: Public dataset on Iowa Liquor Sales\n",
    "\n",
    "    Dataset dimensions: ~26 million rows and 24 columns\n",
    "\n",
    "\n",
    "\n",
    "    ### Sample Inputs:\n",
    "    1. Show the total number of tracks in each playlist. The Playlist name should be included in the result.\n",
    "    ### Enter a search query...\n",
    "\n",
    "    \"\"\")\n",
    "    with gr.Row():\n",
    "      with gr.Column():\n",
    "        input_text = gr.Textbox(label=\"Question\", placeholder=\"Show the total number of tracks in each playlist. The Playlist name should be included in the result.\")\n",
    "\n",
    "    with gr.Row():\n",
    "      generate = gr.Button(\"Ask SQL\")\n",
    "\n",
    "    with gr.Row():\n",
    "      label2 = gr.Textbox(label=\"Output\")\n",
    "    # with gr.Row():\n",
    "    #   label3 = gr.Textbox(label=\"SQL query generated by LLM\")\n",
    "\n",
    "    generate.click(fn=query,inputs=input_text, outputs=label2)\n",
    "demo.launch(share=True, debug=False)"
   ]
  }
 ],
 "metadata": {
  "kernelspec": {
   "display_name": ".venv",
   "language": "python",
   "name": "python3"
  },
  "language_info": {
   "codemirror_mode": {
    "name": "ipython",
    "version": 3
   },
   "file_extension": ".py",
   "mimetype": "text/x-python",
   "name": "python",
   "nbconvert_exporter": "python",
   "pygments_lexer": "ipython3",
   "version": "3.10.7"
  },
  "orig_nbformat": 4
 },
 "nbformat": 4,
 "nbformat_minor": 2
}
