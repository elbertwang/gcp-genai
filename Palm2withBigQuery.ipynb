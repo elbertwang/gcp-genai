{
 "cells": [
  {
   "cell_type": "code",
   "execution_count": null,
   "metadata": {},
   "outputs": [],
   "source": [
    "!pip install langchain pyarrow chromadb tiktoken tabulate sqlalchemy sqlalchemy-bigquer google-cloud-aiplatform google-cloud-bigquery google-cloud-bigquery-storage"
   ]
  },
  {
   "attachments": {},
   "cell_type": "markdown",
   "metadata": {},
   "source": [
    "需要配置 GOOGLE_APPLICATION_CREDENTIALS 环境变量\n",
    "export GOOGLE_APPLICATION_CREDENTIALS=/home/user/code/sa.json"
   ]
  },
  {
   "cell_type": "code",
   "execution_count": null,
   "metadata": {},
   "outputs": [],
   "source": [
    "!export GOOGLE_APPLICATION_CREDENTIALS=/home/user/code/sa.json"
   ]
  },
  {
   "attachments": {},
   "cell_type": "markdown",
   "metadata": {},
   "source": [
    "重启 Kernel"
   ]
  },
  {
   "attachments": {},
   "cell_type": "markdown",
   "metadata": {},
   "source": [
    "测试是否可以调用Palm2 API"
   ]
  },
  {
   "cell_type": "code",
   "execution_count": null,
   "metadata": {},
   "outputs": [],
   "source": [
    "from langchain.llms import VertexAI\n",
    "from langchain import PromptTemplate, LLMChain\n",
    "\n",
    "template = \"\"\"Question: {question}\n",
    "\n",
    "Answer: Let's think step by step.\"\"\"\n",
    "\n",
    "prompt = PromptTemplate(template=template, input_variables=[\"question\"])\n",
    "\n",
    "llm = VertexAI()\n",
    "\n",
    "llm_chain = LLMChain(prompt=prompt, llm=llm)\n",
    "\n",
    "question = \"What NFL team won the Super Bowl in the year Justin Beiber was born?\"\n",
    "\n",
    "llm_chain.run(question)"
   ]
  },
  {
   "attachments": {},
   "cell_type": "markdown",
   "metadata": {},
   "source": [
    "创建测试的BQ 表格"
   ]
  },
  {
   "cell_type": "code",
   "execution_count": null,
   "metadata": {},
   "outputs": [],
   "source": [
    "PROJECT_ID = \"fine-acronym-336109\"  # @param {type:\"string\"} ## Update this with your project id\n",
    "LOCATION = \"us-central1\" # @param {type:\"string\"} ## Continue with us-central1\n",
    "DATASET = \"iowa_liquor_sales\""
   ]
  },
  {
   "cell_type": "code",
   "execution_count": null,
   "metadata": {},
   "outputs": [],
   "source": [
    "from google.cloud import bigquery\n",
    "from google.cloud.bigquery import Client\n",
    "client = Client(project=PROJECT_ID)\n",
    "dataset_id = DATASET"
   ]
  },
  {
   "cell_type": "code",
   "execution_count": null,
   "metadata": {},
   "outputs": [],
   "source": [
    "query = \"\"\"\n",
    "CREATE SCHEMA `{PROJECT_ID}.{dataset_id}`\n",
    "OPTIONS(\n",
    "  location=\"us\"\n",
    "  )\n",
    "\"\"\".format(\n",
    "    PROJECT_ID=PROJECT_ID, dataset_id=dataset_id\n",
    ")\n",
    "query_job = client.query(query)\n",
    "print(query_job.result())"
   ]
  },
  {
   "cell_type": "code",
   "execution_count": null,
   "metadata": {},
   "outputs": [],
   "source": [
    "query = \"\"\"\n",
    "create or replace table `{PROJECT_ID}.{dataset_id}.sales`\n",
    "as\n",
    "select invoice_and_item_number,\n",
    "date,\n",
    "store_number,\n",
    "store_name,\n",
    "address,\n",
    "city,\n",
    "zip_code,\n",
    "county_number,\n",
    "county,\n",
    "category,\n",
    "category_name,\n",
    "vendor_number,\n",
    "vendor_name,\n",
    "item_number,\n",
    "item_description,\n",
    "pack,\n",
    "bottle_volume_ml,\n",
    "state_bottle_cost,\n",
    "state_bottle_retail,\n",
    "bottles_sold,\n",
    "sale_dollars,\n",
    "volume_sold_liters,\n",
    "volume_sold_gallons\n",
    "from `bigquery-public-data.iowa_liquor_sales.sales`\n",
    "\"\"\".format(\n",
    "    PROJECT_ID=PROJECT_ID, dataset_id=dataset_id\n",
    ")\n",
    "query_job = client.query(query)\n",
    "print(query_job.result())"
   ]
  },
  {
   "attachments": {},
   "cell_type": "markdown",
   "metadata": {},
   "source": [
    "测试LLM with BQ"
   ]
  },
  {
   "cell_type": "code",
   "execution_count": null,
   "metadata": {},
   "outputs": [],
   "source": [
    "from google.cloud import bigquery\n",
    "from sqlalchemy import *\n",
    "from sqlalchemy.engine import create_engine\n",
    "from sqlalchemy.schema import *\n",
    "import os\n",
    "from langchain.agents import create_sql_agent\n",
    "from langchain.agents.agent_toolkits import SQLDatabaseToolkit\n",
    "from langchain.sql_database import SQLDatabase\n",
    "from langchain.agents import AgentExecutor\n",
    "\n",
    "service_account_file = \"/home/user/code/sa.json\" # Change to where your service account key file is located\n",
    "os.environ[\"GOOGLE_APPLICATION_CREDENTIALS\"] = service_account_file\n",
    "\n",
    "project = PROJECT_ID\n",
    "dataset = DATASET\n",
    "table = \"sales\"\n",
    "sqlalchemy_url = f'bigquery://{project}/{dataset}?credentials_path={service_account_file}'"
   ]
  },
  {
   "cell_type": "code",
   "execution_count": 21,
   "metadata": {},
   "outputs": [],
   "source": [
    "from langchain.llms import VertexAI\n",
    "from langchain import PromptTemplate, LLMChain\n",
    "\n",
    "llm = VertexAI()\n",
    "db = SQLDatabase.from_uri(sqlalchemy_url)\n",
    "\n",
    "toolkit = SQLDatabaseToolkit(db=db, llm=llm)\n",
    "agent_executor = create_sql_agent(\n",
    "llm=llm,\n",
    "toolkit=toolkit,\n",
    "# verbose=True,\n",
    "top_k=40,\n",
    ")\n",
    "\n",
    "def query(question_str):\n",
    "    return agent_executor.run(question_str)\n"
   ]
  },
  {
   "cell_type": "code",
   "execution_count": 19,
   "metadata": {},
   "outputs": [
    {
     "name": "stdout",
     "output_type": "stream",
     "text": [
      "\n",
      "\n",
      "\u001b[1m> Entering new AgentExecutor chain...\u001b[0m\n",
      "\u001b[32;1m\u001b[1;3mAction: sql_db_list_tables\n",
      "Action Input: \u001b[0m\n",
      "Observation: \u001b[38;5;200m\u001b[1;3msales\u001b[0m\n",
      "Thought:\u001b[32;1m\u001b[1;3mThe sales table seems relevant. I should query the schema of the sales table.\n",
      "Action: sql_db_schema\n",
      "Action Input: sales\u001b[0m\n",
      "Observation: \u001b[33;1m\u001b[1;3m\n",
      "CREATE TABLE `sales` (\n",
      "\t`invoice_and_item_number` STRING, \n",
      "\t`date` DATE, \n",
      "\t`store_number` STRING, \n",
      "\t`store_name` STRING, \n",
      "\t`address` STRING, \n",
      "\t`city` STRING, \n",
      "\t`zip_code` STRING, \n",
      "\t`county_number` STRING, \n",
      "\t`county` STRING, \n",
      "\t`category` STRING, \n",
      "\t`category_name` STRING, \n",
      "\t`vendor_number` STRING, \n",
      "\t`vendor_name` STRING, \n",
      "\t`item_number` STRING, \n",
      "\t`item_description` STRING, \n",
      "\t`pack` INT64, \n",
      "\t`bottle_volume_ml` INT64, \n",
      "\t`state_bottle_cost` FLOAT64, \n",
      "\t`state_bottle_retail` FLOAT64, \n",
      "\t`bottles_sold` INT64, \n",
      "\t`sale_dollars` FLOAT64, \n",
      "\t`volume_sold_liters` FLOAT64, \n",
      "\t`volume_sold_gallons` FLOAT64\n",
      ")\n",
      "\n",
      "/*\n",
      "3 rows from sales table:\n",
      "invoice_and_item_number\tdate\tstore_number\tstore_name\taddress\tcity\tzip_code\tcounty_number\tcounty\tcategory\tcategory_name\tvendor_number\tvendor_name\titem_number\titem_description\tpack\tbottle_volume_ml\tstate_bottle_cost\tstate_bottle_retail\tbottles_sold\tsale_dollars\tvolume_sold_liters\tvolume_sold_gallons\n",
      "INV-21979800032\t2019-09-18\t4405\tKUM & GO #92 / ANKENY\t1025 E  1ST ST\tANKENY\t50021\t77\tPOLK\t1082000.0\tIMPORTED CORDIALS & LIQUEURS\t192\tMAST-JAGERMEISTER US, INC\t65259\tJAGERMEISTER MINI MEISTERS\t12\t20\t4.93\t7.4\t1\t7.4\t0.02\t0.0\n",
      "INV-37719200099\t2021-06-22\t5423\tSTAMMER LIQUOR CORP\t615 2ND AVE\tSHELDON\t51201.0\t71\tO'BRIEN\t1082100.0\tIMPORTED CORDIALS & LIQUEURS\t192\tMAST-JAGERMEISTER US, INC\t65259\tJAGERMEISTER LIQUEUR MINI MEISTERS\t12\t20\t4.93\t7.4\t1\t7.4\t0.02\t0.0\n",
      "INV-18840700012\t2019-04-18\t4129\tCYCLONE LIQUORS\t626 LINCOLN WAY\tAMES\t50010\t85\tSTORY\t1701100.0\tTEMPORARY & SPECIALTY PACKAGES\t559\tMID-OAK DISTILLERY, INC.\t57273\tBLONDIES STRAWBERRY LEMONADE CANS\t6\t1420\t5.5\t8.25\t6\t49.5\t8.52\t2.25\n",
      "*/\u001b[0m\n",
      "Thought:\u001b[32;1m\u001b[1;3mThe sales table has an invoice_and_item_number column. I can use that to count the number of invoices.\n",
      "Action: sql_db_query\n",
      "Action Input: SELECT count(*) FROM sales\u001b[0m\n",
      "Observation: \u001b[36;1m\u001b[1;3m[(26592863,)]\u001b[0m\n",
      "Thought:\u001b[32;1m\u001b[1;3mI now know the final answer\n",
      "Final Answer: The total number of invoices is 26592863.\u001b[0m\n",
      "\n",
      "\u001b[1m> Finished chain.\u001b[0m\n"
     ]
    },
    {
     "data": {
      "text/plain": [
       "'The total number of invoices is 26592863.'"
      ]
     },
     "execution_count": 19,
     "metadata": {},
     "output_type": "execute_result"
    }
   ],
   "source": [
    "query(\"Count total number of invoices\")\n"
   ]
  },
  {
   "cell_type": "code",
   "execution_count": 16,
   "metadata": {},
   "outputs": [
    {
     "data": {
      "text/plain": [
       "'12992381.990000008'"
      ]
     },
     "execution_count": 16,
     "metadata": {},
     "output_type": "execute_result"
    }
   ],
   "source": [
    "query(\"what were the total sales for County DALLAS in 2022?\")\n"
   ]
  },
  {
   "cell_type": "code",
   "execution_count": null,
   "metadata": {},
   "outputs": [],
   "source": [
    "query(\"Can you identify the stores with the highest number of sales? Please provide the store names along with their zip codes , dollar sales and city names.\")\n"
   ]
  },
  {
   "cell_type": "code",
   "execution_count": null,
   "metadata": {},
   "outputs": [],
   "source": [
    "!pip install gradio"
   ]
  },
  {
   "cell_type": "code",
   "execution_count": 22,
   "metadata": {},
   "outputs": [
    {
     "name": "stdout",
     "output_type": "stream",
     "text": [
      "Running on local URL:  http://127.0.0.1:7864\n",
      "Running on public URL: https://7b8845545dd95492ac.gradio.live\n",
      "\n",
      "This share link expires in 72 hours. For free permanent hosting and GPU upgrades, run `gradio deploy` from Terminal to deploy to Spaces (https://huggingface.co/spaces)\n"
     ]
    },
    {
     "data": {
      "text/html": [
       "<div><iframe src=\"https://7b8845545dd95492ac.gradio.live\" width=\"100%\" height=\"500\" allow=\"autoplay; camera; microphone; clipboard-read; clipboard-write;\" frameborder=\"0\" allowfullscreen></iframe></div>"
      ],
      "text/plain": [
       "<IPython.core.display.HTML object>"
      ]
     },
     "metadata": {},
     "output_type": "display_data"
    },
    {
     "data": {
      "text/plain": []
     },
     "execution_count": 22,
     "metadata": {},
     "output_type": "execute_result"
    }
   ],
   "source": [
    "import gradio as gr\n",
    "\n",
    "with gr.Blocks() as demo:\n",
    "    gr.Markdown(\n",
    "    \"\"\"\n",
    "    ## Ask BigQuery\n",
    "\n",
    "    This demo is to showcase answering questions on a tabular data available in Big Query using Vertex PALM LLM & Langchain.\n",
    "\n",
    "    Dataset: Public dataset on Iowa Liquor Sales\n",
    "\n",
    "    Dataset dimensions: ~26 million rows and 24 columns\n",
    "\n",
    "\n",
    "\n",
    "    ### Sample Inputs:\n",
    "    1. Count total number of invoices\n",
    "    2. Identify the top stores along with their zipcode & city name in terms of Number of Sales\n",
    "    3. Write an SQL query to extract the month from the date field, calculate the sum of monthly sales for \"GLENLIVET 12YR\" in 2023, and display the results as month name followed by sales for each month in 2023.\n",
    "\n",
    "    ### Enter a search query...\n",
    "\n",
    "    \"\"\")\n",
    "    with gr.Row():\n",
    "      with gr.Column():\n",
    "        input_text = gr.Textbox(label=\"Question\", placeholder=\"Count total number of invoices\")\n",
    "\n",
    "    with gr.Row():\n",
    "      generate = gr.Button(\"Ask BigQuery\")\n",
    "\n",
    "    with gr.Row():\n",
    "      label2 = gr.Textbox(label=\"Output\")\n",
    "    # with gr.Row():\n",
    "    #   label3 = gr.Textbox(label=\"SQL query generated by LLM\")\n",
    "\n",
    "    generate.click(fn=query,inputs=input_text, outputs=label2)\n",
    "demo.launch(share=True, debug=False)"
   ]
  }
 ],
 "metadata": {
  "kernelspec": {
   "display_name": ".venv",
   "language": "python",
   "name": "python3"
  },
  "language_info": {
   "codemirror_mode": {
    "name": "ipython",
    "version": 3
   },
   "file_extension": ".py",
   "mimetype": "text/x-python",
   "name": "python",
   "nbconvert_exporter": "python",
   "pygments_lexer": "ipython3",
   "version": "3.10.7"
  },
  "orig_nbformat": 4
 },
 "nbformat": 4,
 "nbformat_minor": 2
}
